{
 "cells": [
  {
   "cell_type": "code",
   "execution_count": 1,
   "id": "0a7217c9",
   "metadata": {},
   "outputs": [
    {
     "data": {
      "text/plain": [
       "'/Users/ikhatri'"
      ]
     },
     "execution_count": 1,
     "metadata": {},
     "output_type": "execute_result"
    }
   ],
   "source": [
    "pwd"
   ]
  },
  {
   "cell_type": "code",
   "execution_count": 2,
   "id": "37219fa1",
   "metadata": {},
   "outputs": [
    {
     "name": "stdout",
     "output_type": "stream",
     "text": [
      "/Users/ikhatri/Dropbox/My Mac (Indiras’s MacBook Air)/Desktop\n"
     ]
    }
   ],
   "source": [
    "cd Desktop/"
   ]
  },
  {
   "cell_type": "code",
   "execution_count": 3,
   "id": "22dc477b",
   "metadata": {},
   "outputs": [
    {
     "data": {
      "text/plain": [
       "'/Users/ikhatri/Dropbox/My Mac (Indiras’s MacBook Air)/Desktop'"
      ]
     },
     "execution_count": 3,
     "metadata": {},
     "output_type": "execute_result"
    }
   ],
   "source": [
    "pwd"
   ]
  },
  {
   "cell_type": "code",
   "execution_count": 4,
   "id": "81c0e269",
   "metadata": {},
   "outputs": [
    {
     "name": "stdout",
     "output_type": "stream",
     "text": [
      "2022-03-27 17-21-01.mov    \u001b[34mPackage\u001b[m\u001b[m/\r\n",
      "\u001b[34mITStuffs\u001b[m\u001b[m/                  \u001b[34mResearch\u001b[m\u001b[m/\r\n",
      "Icon?                      \u001b[34mTestRun\u001b[m\u001b[m/\r\n",
      "IntroductionToJava.ipynb   \u001b[34mbatch2022-main\u001b[m\u001b[m/\r\n",
      "\u001b[34mJavaPractice\u001b[m\u001b[m/              \u001b[34mminimization\u001b[m\u001b[m/\r\n",
      "K-Nearest_Neighbors.ipynb\r\n"
     ]
    }
   ],
   "source": [
    "ls\n"
   ]
  },
  {
   "cell_type": "code",
   "execution_count": 5,
   "id": "ed2676de",
   "metadata": {},
   "outputs": [
    {
     "name": "stdout",
     "output_type": "stream",
     "text": [
      "/Users/ikhatri/Dropbox/My Mac (Indiras’s MacBook Air)/Desktop/Package\n"
     ]
    }
   ],
   "source": [
    "cd Package/\n"
   ]
  },
  {
   "cell_type": "code",
   "execution_count": 6,
   "id": "c1cedaac",
   "metadata": {},
   "outputs": [
    {
     "name": "stdout",
     "output_type": "stream",
     "text": [
      "Package.iml  \u001b[34mout\u001b[m\u001b[m/         \u001b[34msrc\u001b[m\u001b[m/\r\n"
     ]
    }
   ],
   "source": [
    "ls\n"
   ]
  },
  {
   "cell_type": "code",
   "execution_count": 7,
   "id": "62bcf202",
   "metadata": {},
   "outputs": [
    {
     "name": "stdout",
     "output_type": "stream",
     "text": [
      "/Users/ikhatri/Dropbox/My Mac (Indiras’s MacBook Air)/Desktop/Package/src\n"
     ]
    }
   ],
   "source": [
    "cd src/"
   ]
  },
  {
   "cell_type": "code",
   "execution_count": 8,
   "id": "9131be31",
   "metadata": {},
   "outputs": [
    {
     "name": "stdout",
     "output_type": "stream",
     "text": [
      "\u001b[34macademy\u001b[m\u001b[m/\r\n"
     ]
    }
   ],
   "source": [
    "ls\n"
   ]
  },
  {
   "cell_type": "code",
   "execution_count": 9,
   "id": "5a4d999a",
   "metadata": {},
   "outputs": [
    {
     "name": "stdout",
     "output_type": "stream",
     "text": [
      "/Users/ikhatri/Dropbox/My Mac (Indiras’s MacBook Air)/Desktop/Package/src/academy\n"
     ]
    }
   ],
   "source": [
    "cd academy/"
   ]
  },
  {
   "cell_type": "code",
   "execution_count": 10,
   "id": "f997481d",
   "metadata": {},
   "outputs": [
    {
     "name": "stdout",
     "output_type": "stream",
     "text": [
      "\u001b[34mlearnprogramming\u001b[m\u001b[m/\r\n"
     ]
    }
   ],
   "source": [
    "ls\n"
   ]
  },
  {
   "cell_type": "code",
   "execution_count": 11,
   "id": "3a278bcf",
   "metadata": {},
   "outputs": [
    {
     "name": "stdout",
     "output_type": "stream",
     "text": [
      "/Users/ikhatri/Dropbox/My Mac (Indiras’s MacBook Air)/Desktop/Package/src/academy/learnprogramming\n"
     ]
    }
   ],
   "source": [
    "cd learnprogramming/"
   ]
  },
  {
   "cell_type": "code",
   "execution_count": 12,
   "id": "5d217922",
   "metadata": {},
   "outputs": [
    {
     "name": "stdout",
     "output_type": "stream",
     "text": [
      "Main.java\r\n"
     ]
    }
   ],
   "source": [
    "ls\n"
   ]
  },
  {
   "cell_type": "code",
   "execution_count": 13,
   "id": "e7b32308",
   "metadata": {},
   "outputs": [
    {
     "name": "stdout",
     "output_type": "stream",
     "text": [
      "package academy.learnprogramming;\r\n",
      "\r\n",
      "public class Main {\r\n",
      "\r\n",
      "    public static void main(String[] args) {\r\n",
      "\tint a = 10000;\r\n",
      "    int myMinIntValue = Integer.MIN_VALUE;\r\n",
      "    int myMaxIntValue = Integer.MAX_VALUE;\r\n",
      "    System.out.println(\"Integer Minimum value= \"  + myMinIntValue);\r\n",
      "    System.out.println(\"Integer Maximum value= \"  + myMaxIntValue);\r\n",
      "    System.out.println(\"Busted Maximum value= \"  +  (myMaxIntValue+1));\r\n",
      "    System.out.println(\"Busted Minimum value= \"  +  (myMinIntValue - 1));\r\n",
      "\r\n",
      "    int myMinByteValue = Byte.MIN_VALUE;\r\n",
      "    int myMaxByteValue = Byte.MAX_VALUE;\r\n",
      "    System.out.println(\"Byte Maximum value= \"  + myMinByteValue);\r\n",
      "    System.out.println(\"Byte Min value= \"  + myMaxByteValue);\r\n",
      "    }\r\n",
      "}\r\n"
     ]
    }
   ],
   "source": [
    "cat Main.java"
   ]
  },
  {
   "cell_type": "code",
   "execution_count": 16,
   "id": "7f475d2e",
   "metadata": {},
   "outputs": [
    {
     "ename": "NameError",
     "evalue": "name 'pd' is not defined",
     "output_type": "error",
     "traceback": [
      "\u001b[0;31m---------------------------------------------------------------------------\u001b[0m",
      "\u001b[0;31mNameError\u001b[0m                                 Traceback (most recent call last)",
      "\u001b[0;32m/var/folders/82/114jd13d277113s786nh474h0000gn/T/ipykernel_59688/408473977.py\u001b[0m in \u001b[0;36m<module>\u001b[0;34m\u001b[0m\n\u001b[1;32m      1\u001b[0m \u001b[0;31m#this is to load csv file\u001b[0m\u001b[0;34m\u001b[0m\u001b[0;34m\u001b[0m\u001b[0m\n\u001b[0;32m----> 2\u001b[0;31m \u001b[0mdata\u001b[0m \u001b[0;34m=\u001b[0m \u001b[0mpd\u001b[0m\u001b[0;34m.\u001b[0m\u001b[0mread_csv\u001b[0m\u001b[0;34m(\u001b[0m\u001b[0;34m\"crap.csv\"\u001b[0m\u001b[0;34m)\u001b[0m\u001b[0;34m\u001b[0m\u001b[0;34m\u001b[0m\u001b[0m\n\u001b[0m",
      "\u001b[0;31mNameError\u001b[0m: name 'pd' is not defined"
     ]
    }
   ],
   "source": [
    "#this is to load csv file\n",
    "data = pd.read_csv(\"crap.csv\")"
   ]
  },
  {
   "cell_type": "code",
   "execution_count": 15,
   "id": "6823e78b",
   "metadata": {},
   "outputs": [
    {
     "ename": "NameError",
     "evalue": "name 'data' is not defined",
     "output_type": "error",
     "traceback": [
      "\u001b[0;31m---------------------------------------------------------------------------\u001b[0m",
      "\u001b[0;31mNameError\u001b[0m                                 Traceback (most recent call last)",
      "\u001b[0;32m/var/folders/82/114jd13d277113s786nh474h0000gn/T/ipykernel_59688/391604064.py\u001b[0m in \u001b[0;36m<module>\u001b[0;34m\u001b[0m\n\u001b[0;32m----> 1\u001b[0;31m \u001b[0mdata\u001b[0m\u001b[0;34m\u001b[0m\u001b[0;34m\u001b[0m\u001b[0m\n\u001b[0m",
      "\u001b[0;31mNameError\u001b[0m: name 'data' is not defined"
     ]
    }
   ],
   "source": [
    "data"
   ]
  },
  {
   "cell_type": "code",
   "execution_count": null,
   "id": "c98b72ba",
   "metadata": {},
   "outputs": [],
   "source": []
  }
 ],
 "metadata": {
  "kernelspec": {
   "display_name": "Python 3 (ipykernel)",
   "language": "python",
   "name": "python3"
  },
  "language_info": {
   "codemirror_mode": {
    "name": "ipython",
    "version": 3
   },
   "file_extension": ".py",
   "mimetype": "text/x-python",
   "name": "python",
   "nbconvert_exporter": "python",
   "pygments_lexer": "ipython3",
   "version": "3.9.7"
  }
 },
 "nbformat": 4,
 "nbformat_minor": 5
}
