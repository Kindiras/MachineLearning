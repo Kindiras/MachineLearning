{
 "cells": [
  {
   "cell_type": "code",
   "execution_count": 6,
   "id": "10fe0a83",
   "metadata": {},
   "outputs": [],
   "source": [
    "import pandas as pd"
   ]
  },
  {
   "cell_type": "code",
   "execution_count": 7,
   "id": "650ad59d",
   "metadata": {},
   "outputs": [],
   "source": [
    "# Define a function that gives position for free fall\n",
    "def FindPosition(x_0,v_0,t):\n",
    "    return(x_0 + v_0*t + 0.5*9.8*t**2)"
   ]
  },
  {
   "cell_type": "code",
   "execution_count": 21,
   "id": "fc267e6d",
   "metadata": {},
   "outputs": [],
   "source": [
    "import csv\n",
    "import random\n",
    "\n",
    "header = ['Initial_position','Initial_velocity','Mass','Time','Position']\n",
    "with open(\"freefalldata.csv\",'w') as ff:\n",
    "    filedump = csv.writer(ff, delimiter=',', quotechar='\"', quoting=csv.QUOTE_MINIMAL)\n",
    "    filedump.writerow(header)\n",
    "    for i in range(10000):\n",
    "        x_0=random.randrange(1,1000)\n",
    "        v_0 = random.randrange(1,100)\n",
    "        m = random.randrange(1,100)\n",
    "        t = random.randrange(1,100)\n",
    "        p = FindPosition(x_0, v_0,t)\n",
    "        filedump.writerow([x_0,v_0,m,t,p])\n",
    "    "
   ]
  },
  {
   "cell_type": "code",
   "execution_count": 22,
   "id": "12346007",
   "metadata": {},
   "outputs": [],
   "source": [
    "import pandas as pd\n",
    "dataset = pd.read_csv(\"freefalldata.csv\")"
   ]
  },
  {
   "cell_type": "code",
   "execution_count": 23,
   "id": "1542cbbb",
   "metadata": {},
   "outputs": [
    {
     "data": {
      "text/html": [
       "<div>\n",
       "<style scoped>\n",
       "    .dataframe tbody tr th:only-of-type {\n",
       "        vertical-align: middle;\n",
       "    }\n",
       "\n",
       "    .dataframe tbody tr th {\n",
       "        vertical-align: top;\n",
       "    }\n",
       "\n",
       "    .dataframe thead th {\n",
       "        text-align: right;\n",
       "    }\n",
       "</style>\n",
       "<table border=\"1\" class=\"dataframe\">\n",
       "  <thead>\n",
       "    <tr style=\"text-align: right;\">\n",
       "      <th></th>\n",
       "      <th>Initial_position</th>\n",
       "      <th>Initial_velocity</th>\n",
       "      <th>Mass</th>\n",
       "      <th>Time</th>\n",
       "      <th>Position</th>\n",
       "    </tr>\n",
       "  </thead>\n",
       "  <tbody>\n",
       "    <tr>\n",
       "      <th>0</th>\n",
       "      <td>84</td>\n",
       "      <td>43</td>\n",
       "      <td>92</td>\n",
       "      <td>29</td>\n",
       "      <td>5451.9</td>\n",
       "    </tr>\n",
       "    <tr>\n",
       "      <th>1</th>\n",
       "      <td>720</td>\n",
       "      <td>47</td>\n",
       "      <td>60</td>\n",
       "      <td>94</td>\n",
       "      <td>48434.4</td>\n",
       "    </tr>\n",
       "  </tbody>\n",
       "</table>\n",
       "</div>"
      ],
      "text/plain": [
       "   Initial_position  Initial_velocity  Mass  Time  Position\n",
       "0                84                43    92    29    5451.9\n",
       "1               720                47    60    94   48434.4"
      ]
     },
     "execution_count": 23,
     "metadata": {},
     "output_type": "execute_result"
    }
   ],
   "source": [
    "dataset.head(2)"
   ]
  },
  {
   "cell_type": "code",
   "execution_count": 24,
   "id": "f63c2527",
   "metadata": {},
   "outputs": [],
   "source": [
    "import matplotlib.pyplot as plt"
   ]
  },
  {
   "cell_type": "code",
   "execution_count": 26,
   "id": "095e9971",
   "metadata": {},
   "outputs": [
    {
     "data": {
      "text/plain": [
       "[<matplotlib.lines.Line2D at 0x7fd089138610>]"
      ]
     },
     "execution_count": 26,
     "metadata": {},
     "output_type": "execute_result"
    },
    {
     "data": {
      "image/png": "[encoded data removed]",
      "text/plain": [
       "<Figure size 432x288 with 1 Axes>"
      ]
     },
     "metadata": {
      "needs_background": "light"
     },
     "output_type": "display_data"
    }
   ],
   "source": [
    "plt.plot(dataset['Time'],dataset['Position'])"
   ]
  },
  {
   "cell_type": "code",
   "execution_count": 27,
   "id": "77147e08",
   "metadata": {},
   "outputs": [],
   "source": [
    "from sklearn.model_selection import train_test_split"
   ]
  },
  {
   "cell_type": "code",
   "execution_count": 36,
   "id": "5307de59",
   "metadata": {},
   "outputs": [],
   "source": [
    "#Figure out Independent and dependent variable as in the other cases\n",
    "X = dataset.iloc[:,:-1]"
   ]
  },
  {
   "cell_type": "code",
   "execution_count": 38,
   "id": "db52fb78",
   "metadata": {},
   "outputs": [
    {
     "data": {
      "text/html": [
       "<div>\n",
       "<style scoped>\n",
       "    .dataframe tbody tr th:only-of-type {\n",
       "        vertical-align: middle;\n",
       "    }\n",
       "\n",
       "    .dataframe tbody tr th {\n",
       "        vertical-align: top;\n",
       "    }\n",
       "\n",
       "    .dataframe thead th {\n",
       "        text-align: right;\n",
       "    }\n",
       "</style>\n",
       "<table border=\"1\" class=\"dataframe\">\n",
       "  <thead>\n",
       "    <tr style=\"text-align: right;\">\n",
       "      <th></th>\n",
       "      <th>Initial_position</th>\n",
       "      <th>Initial_velocity</th>\n",
       "      <th>Mass</th>\n",
       "      <th>Time</th>\n",
       "    </tr>\n",
       "  </thead>\n",
       "  <tbody>\n",
       "    <tr>\n",
       "      <th>0</th>\n",
       "      <td>84</td>\n",
       "      <td>43</td>\n",
       "      <td>92</td>\n",
       "      <td>29</td>\n",
       "    </tr>\n",
       "    <tr>\n",
       "      <th>1</th>\n",
       "      <td>720</td>\n",
       "      <td>47</td>\n",
       "      <td>60</td>\n",
       "      <td>94</td>\n",
       "    </tr>\n",
       "  </tbody>\n",
       "</table>\n",
       "</div>"
      ],
      "text/plain": [
       "   Initial_position  Initial_velocity  Mass  Time\n",
       "0                84                43    92    29\n",
       "1               720                47    60    94"
      ]
     },
     "execution_count": 38,
     "metadata": {},
     "output_type": "execute_result"
    }
   ],
   "source": [
    "X.head(2)"
   ]
  },
  {
   "cell_type": "code",
   "execution_count": 45,
   "id": "15d82228",
   "metadata": {},
   "outputs": [],
   "source": [
    "y = dataset.iloc[:,-1]"
   ]
  },
  {
   "cell_type": "code",
   "execution_count": 46,
   "id": "0e028705",
   "metadata": {},
   "outputs": [
    {
     "data": {
      "text/plain": [
       "0        5451.9\n",
       "1       48434.4\n",
       "2        4761.4\n",
       "3        3105.9\n",
       "4       19488.4\n",
       "         ...   \n",
       "9995    22847.4\n",
       "9996    31895.5\n",
       "9997     2234.0\n",
       "9998    23113.0\n",
       "9999    43427.9\n",
       "Name: Position, Length: 10000, dtype: float64"
      ]
     },
     "execution_count": 46,
     "metadata": {},
     "output_type": "execute_result"
    }
   ],
   "source": [
    "y"
   ]
  },
  {
   "cell_type": "code",
   "execution_count": 47,
   "id": "cceec4b1",
   "metadata": {},
   "outputs": [],
   "source": [
    "X_train,X_test,y_train,y_test = train_test_split(X,y,test_size=0.2,random_state=30)"
   ]
  },
  {
   "cell_type": "code",
   "execution_count": 48,
   "id": "d7de0250",
   "metadata": {},
   "outputs": [
    {
     "data": {
      "text/html": [
       "<div>\n",
       "<style scoped>\n",
       "    .dataframe tbody tr th:only-of-type {\n",
       "        vertical-align: middle;\n",
       "    }\n",
       "\n",
       "    .dataframe tbody tr th {\n",
       "        vertical-align: top;\n",
       "    }\n",
       "\n",
       "    .dataframe thead th {\n",
       "        text-align: right;\n",
       "    }\n",
       "</style>\n",
       "<table border=\"1\" class=\"dataframe\">\n",
       "  <thead>\n",
       "    <tr style=\"text-align: right;\">\n",
       "      <th></th>\n",
       "      <th>Initial_position</th>\n",
       "      <th>Initial_velocity</th>\n",
       "      <th>Mass</th>\n",
       "      <th>Time</th>\n",
       "    </tr>\n",
       "  </thead>\n",
       "  <tbody>\n",
       "    <tr>\n",
       "      <th>2182</th>\n",
       "      <td>640</td>\n",
       "      <td>23</td>\n",
       "      <td>94</td>\n",
       "      <td>74</td>\n",
       "    </tr>\n",
       "    <tr>\n",
       "      <th>5766</th>\n",
       "      <td>133</td>\n",
       "      <td>44</td>\n",
       "      <td>95</td>\n",
       "      <td>24</td>\n",
       "    </tr>\n",
       "  </tbody>\n",
       "</table>\n",
       "</div>"
      ],
      "text/plain": [
       "      Initial_position  Initial_velocity  Mass  Time\n",
       "2182               640                23    94    74\n",
       "5766               133                44    95    24"
      ]
     },
     "execution_count": 48,
     "metadata": {},
     "output_type": "execute_result"
    }
   ],
   "source": [
    "X_train.head(2)"
   ]
  },
  {
   "cell_type": "code",
   "execution_count": 49,
   "id": "3e679275",
   "metadata": {},
   "outputs": [
    {
     "data": {
      "text/plain": [
       "2182    29174.4\n",
       "5766     4011.4\n",
       "2439    23141.1\n",
       "993     14842.9\n",
       "7426    48476.1\n",
       "         ...   \n",
       "4859    52625.4\n",
       "919      3770.6\n",
       "500     12240.1\n",
       "4517     1705.9\n",
       "5925     9542.5\n",
       "Name: Position, Length: 8000, dtype: float64"
      ]
     },
     "execution_count": 49,
     "metadata": {},
     "output_type": "execute_result"
    }
   ],
   "source": [
    "y_train"
   ]
  },
  {
   "cell_type": "code",
   "execution_count": 50,
   "id": "d9da2c84",
   "metadata": {},
   "outputs": [],
   "source": [
    "from sklearn.linear_model import LinearRegression\n",
    "from sklearn.preprocessing import PolynomialFeatures"
   ]
  },
  {
   "cell_type": "code",
   "execution_count": 51,
   "id": "567bd903",
   "metadata": {},
   "outputs": [],
   "source": [
    "pol = PolynomialFeatures(degree=2)\n",
    "X_train_transform = pol.fit_transform(X_train)\n",
    "X_test_transform = pol.fit_transform(X_test)"
   ]
  },
  {
   "cell_type": "code",
   "execution_count": 53,
   "id": "f7822def",
   "metadata": {},
   "outputs": [
    {
     "data": {
      "text/plain": [
       "LinearRegression()"
      ]
     },
     "execution_count": 53,
     "metadata": {},
     "output_type": "execute_result"
    }
   ],
   "source": [
    "regressor = LinearRegression()\n",
    "regressor.fit(X_train_transform,y_train)"
   ]
  },
  {
   "cell_type": "code",
   "execution_count": 57,
   "id": "10a305c0",
   "metadata": {},
   "outputs": [],
   "source": [
    "import pickle\n",
    "filename = 'freefall.pkl'\n",
    "pickle.dump(regressor,open(filename,'wb'))\n",
    "regressor = pickle.load(open(filename,'rb'))"
   ]
  },
  {
   "cell_type": "code",
   "execution_count": 58,
   "id": "86c71231",
   "metadata": {},
   "outputs": [],
   "source": [
    "y_pred = regressor.predict(X_test_transform)"
   ]
  },
  {
   "cell_type": "code",
   "execution_count": 61,
   "id": "42c54019",
   "metadata": {},
   "outputs": [
    {
     "data": {
      "text/plain": [
       "array([33880.5, 11719.9, 48406.9, 17862.4,  2816.6])"
      ]
     },
     "execution_count": 61,
     "metadata": {},
     "output_type": "execute_result"
    }
   ],
   "source": [
    "y_pred[:5]"
   ]
  },
  {
   "cell_type": "code",
   "execution_count": 62,
   "id": "79352ba1",
   "metadata": {},
   "outputs": [
    {
     "data": {
      "text/plain": [
       "array([ 0.00000000e+00,  1.00000000e+00, -2.74272636e-13, -5.77089134e-14,\n",
       "       -5.00066089e-13,  2.01962589e-16,  1.41986770e-15,  3.92412011e-16,\n",
       "        6.17085500e-16, -2.50334629e-16, -2.76045850e-15,  1.00000000e+00,\n",
       "       -4.17242602e-15, -7.50568322e-15,  4.90000000e+00])"
      ]
     },
     "execution_count": 62,
     "metadata": {},
     "output_type": "execute_result"
    }
   ],
   "source": [
    "regressor.coef_"
   ]
  },
  {
   "cell_type": "code",
   "execution_count": 65,
   "id": "d9a3b033",
   "metadata": {},
   "outputs": [
    {
     "name": "stdout",
     "output_type": "stream",
     "text": [
      "1.0\n",
      "7.201404402561862e-11\n"
     ]
    }
   ],
   "source": [
    "from sklearn.metrics import mean_squared_error,r2_score\n",
    "import numpy as np\n",
    "print(r2_score(y_test,y_pred))\n",
    "print(np.sqrt(mean_squared_error(y_test,y_pred)))"
   ]
  },
  {
   "cell_type": "code",
   "execution_count": 67,
   "id": "44e3b78e",
   "metadata": {},
   "outputs": [
    {
     "data": {
      "text/plain": [
       "['1',\n",
       " 'initial_position',\n",
       " 'initial_velocity',\n",
       " 'mass',\n",
       " 'time',\n",
       " 'initial_position^2',\n",
       " 'initial_position initial_velocity',\n",
       " 'initial_position mass',\n",
       " 'initial_position time',\n",
       " 'initial_velocity^2',\n",
       " 'initial_velocity mass',\n",
       " 'initial_velocity time',\n",
       " 'mass^2',\n",
       " 'mass time',\n",
       " 'time^2']"
      ]
     },
     "execution_count": 67,
     "metadata": {},
     "output_type": "execute_result"
    }
   ],
   "source": [
    "['1', 'initial_position', 'initial_velocity', 'mass', \n",
    " 'time', 'initial_position^2', 'initial_position initial_velocity', 'initial_position mass',\n",
    " 'initial_position time', 'initial_velocity^2', 'initial_velocity mass', 'initial_velocity time',\n",
    " 'mass^2', 'mass time', 'time^2']"
   ]
  },
  {
   "cell_type": "code",
   "execution_count": 72,
   "id": "24524534",
   "metadata": {},
   "outputs": [
    {
     "data": {
      "text/plain": [
       "2.546585164964199e-11"
      ]
     },
     "execution_count": 72,
     "metadata": {},
     "output_type": "execute_result"
    }
   ],
   "source": [
    "regressor.intercept_"
   ]
  },
  {
   "cell_type": "code",
   "execution_count": 73,
   "id": "3de0336a",
   "metadata": {},
   "outputs": [
    {
     "data": {
      "text/plain": [
       "array([ 0.00000000e+00,  1.00000000e+00, -2.74272636e-13, -5.77089134e-14,\n",
       "       -5.00066089e-13,  2.01962589e-16,  1.41986770e-15,  3.92412011e-16,\n",
       "        6.17085500e-16, -2.50334629e-16, -2.76045850e-15,  1.00000000e+00,\n",
       "       -4.17242602e-15, -7.50568322e-15,  4.90000000e+00])"
      ]
     },
     "execution_count": 73,
     "metadata": {},
     "output_type": "execute_result"
    }
   ],
   "source": [
    "regressor.coef_"
   ]
  },
  {
   "cell_type": "markdown",
   "id": "8e2cbffa",
   "metadata": {},
   "source": [
    "# model is\n",
    "# X_0 + v_0*t + 4.9*t^2"
   ]
  },
  {
   "cell_type": "code",
   "execution_count": null,
   "id": "2a1d5218",
   "metadata": {},
   "outputs": [],
   "source": []
  }
 ],
 "metadata": {
  "kernelspec": {
   "display_name": "Python 3 (ipykernel)",
   "language": "python",
   "name": "python3"
  },
  "language_info": {
   "codemirror_mode": {
    "name": "ipython",
    "version": 3
   },
   "file_extension": ".py",
   "mimetype": "text/x-python",
   "name": "python",
   "nbconvert_exporter": "python",
   "pygments_lexer": "ipython3",
   "version": "3.9.7"
  }
 },
 "nbformat": 4,
 "nbformat_minor": 5
}
