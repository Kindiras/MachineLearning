{
 "cells": [
  {
   "cell_type": "code",
   "execution_count": null,
   "id": "becoming-pontiac",
   "metadata": {},
   "outputs": [],
   "source": [
    "#Import libraries\n",
    "import pandas as pd"
   ]
  },
  {
   "cell_type": "code",
   "execution_count": null,
   "id": "promotional-light",
   "metadata": {},
   "outputs": [],
   "source": []
  },
  {
   "cell_type": "code",
   "execution_count": 3,
   "id": "sealed-jones",
   "metadata": {},
   "outputs": [],
   "source": [
    "def location(x_0, v_0, t):\n",
    "    return x_0 + v_0*t - (9.8/2)*t**2"
   ]
  },
  {
   "cell_type": "code",
   "execution_count": 17,
   "id": "loving-dance",
   "metadata": {},
   "outputs": [],
   "source": [
    "import csv\n",
    "import random\n",
    "import math\n",
    "random.seed\n",
    "with open('gravity_location_data.csv', mode='w') as gravity_file:\n",
    "    gravity_writer = csv.writer(gravity_file, delimiter=',', quotechar='\"', quoting=csv.QUOTE_MINIMAL)\n",
    "    gravity_writer.writerow(['initial_position', 'initial_velocity', 'mass', 'time', 'location'])\n",
    "    \n",
    "    for i in range (0, 10000):\n",
    "        initial_position = random.randrange(1, 10000)\n",
    "        initial_velocity = random.randrange(1, 100)\n",
    "        mass = random.randrange(1, 1000)\n",
    "        time = random.randrange(1, 100)\n",
    "        gravity_writer.writerow([initial_position, initial_velocity, mass, time, location(initial_position, initial_velocity, time)])"
   ]
  },
  {
   "cell_type": "code",
   "execution_count": null,
   "id": "extra-importance",
   "metadata": {},
   "outputs": [],
   "source": []
  },
  {
   "cell_type": "code",
   "execution_count": 18,
   "id": "linear-kitty",
   "metadata": {},
   "outputs": [],
   "source": [
    "import pandas as pd\n",
    "gravity_data = pd.read_csv('gravity_location_data.csv')\n",
    "df_location = pd.DataFrame(gravity_data)"
   ]
  },
  {
   "cell_type": "code",
   "execution_count": 19,
   "id": "western-helena",
   "metadata": {},
   "outputs": [
    {
     "data": {
      "text/html": [
       "<div>\n",
       "<style scoped>\n",
       "    .dataframe tbody tr th:only-of-type {\n",
       "        vertical-align: middle;\n",
       "    }\n",
       "\n",
       "    .dataframe tbody tr th {\n",
       "        vertical-align: top;\n",
       "    }\n",
       "\n",
       "    .dataframe thead th {\n",
       "        text-align: right;\n",
       "    }\n",
       "</style>\n",
       "<table border=\"1\" class=\"dataframe\">\n",
       "  <thead>\n",
       "    <tr style=\"text-align: right;\">\n",
       "      <th></th>\n",
       "      <th>initial_position</th>\n",
       "      <th>initial_velocity</th>\n",
       "      <th>mass</th>\n",
       "      <th>time</th>\n",
       "      <th>location</th>\n",
       "    </tr>\n",
       "  </thead>\n",
       "  <tbody>\n",
       "    <tr>\n",
       "      <th>0</th>\n",
       "      <td>9209</td>\n",
       "      <td>61</td>\n",
       "      <td>202</td>\n",
       "      <td>52</td>\n",
       "      <td>-868.6</td>\n",
       "    </tr>\n",
       "    <tr>\n",
       "      <th>1</th>\n",
       "      <td>4158</td>\n",
       "      <td>81</td>\n",
       "      <td>820</td>\n",
       "      <td>28</td>\n",
       "      <td>2584.4</td>\n",
       "    </tr>\n",
       "    <tr>\n",
       "      <th>2</th>\n",
       "      <td>9905</td>\n",
       "      <td>90</td>\n",
       "      <td>49</td>\n",
       "      <td>17</td>\n",
       "      <td>10018.9</td>\n",
       "    </tr>\n",
       "    <tr>\n",
       "      <th>3</th>\n",
       "      <td>3872</td>\n",
       "      <td>12</td>\n",
       "      <td>237</td>\n",
       "      <td>5</td>\n",
       "      <td>3809.5</td>\n",
       "    </tr>\n",
       "    <tr>\n",
       "      <th>4</th>\n",
       "      <td>61</td>\n",
       "      <td>90</td>\n",
       "      <td>661</td>\n",
       "      <td>26</td>\n",
       "      <td>-911.4</td>\n",
       "    </tr>\n",
       "    <tr>\n",
       "      <th>...</th>\n",
       "      <td>...</td>\n",
       "      <td>...</td>\n",
       "      <td>...</td>\n",
       "      <td>...</td>\n",
       "      <td>...</td>\n",
       "    </tr>\n",
       "    <tr>\n",
       "      <th>9995</th>\n",
       "      <td>4818</td>\n",
       "      <td>41</td>\n",
       "      <td>629</td>\n",
       "      <td>24</td>\n",
       "      <td>2979.6</td>\n",
       "    </tr>\n",
       "    <tr>\n",
       "      <th>9996</th>\n",
       "      <td>6710</td>\n",
       "      <td>20</td>\n",
       "      <td>38</td>\n",
       "      <td>44</td>\n",
       "      <td>-1896.4</td>\n",
       "    </tr>\n",
       "    <tr>\n",
       "      <th>9997</th>\n",
       "      <td>7761</td>\n",
       "      <td>20</td>\n",
       "      <td>839</td>\n",
       "      <td>8</td>\n",
       "      <td>7607.4</td>\n",
       "    </tr>\n",
       "    <tr>\n",
       "      <th>9998</th>\n",
       "      <td>5382</td>\n",
       "      <td>59</td>\n",
       "      <td>28</td>\n",
       "      <td>38</td>\n",
       "      <td>548.4</td>\n",
       "    </tr>\n",
       "    <tr>\n",
       "      <th>9999</th>\n",
       "      <td>9859</td>\n",
       "      <td>2</td>\n",
       "      <td>583</td>\n",
       "      <td>91</td>\n",
       "      <td>-30535.9</td>\n",
       "    </tr>\n",
       "  </tbody>\n",
       "</table>\n",
       "<p>10000 rows × 5 columns</p>\n",
       "</div>"
      ],
      "text/plain": [
       "      initial_position  initial_velocity  mass  time  location\n",
       "0                 9209                61   202    52    -868.6\n",
       "1                 4158                81   820    28    2584.4\n",
       "2                 9905                90    49    17   10018.9\n",
       "3                 3872                12   237     5    3809.5\n",
       "4                   61                90   661    26    -911.4\n",
       "...                ...               ...   ...   ...       ...\n",
       "9995              4818                41   629    24    2979.6\n",
       "9996              6710                20    38    44   -1896.4\n",
       "9997              7761                20   839     8    7607.4\n",
       "9998              5382                59    28    38     548.4\n",
       "9999              9859                 2   583    91  -30535.9\n",
       "\n",
       "[10000 rows x 5 columns]"
      ]
     },
     "execution_count": 19,
     "metadata": {},
     "output_type": "execute_result"
    }
   ],
   "source": [
    "df_location"
   ]
  },
  {
   "cell_type": "code",
   "execution_count": 20,
   "id": "european-italic",
   "metadata": {},
   "outputs": [],
   "source": [
    "from sklearn.model_selection import train_test_split\n",
    "def split_data(data, target_name):\n",
    "    y = data[target_name]\n",
    "    X = data.drop(target_name, axis=1)\n",
    "    return train_test_split(X, y, test_size=0.2, random_state=30)"
   ]
  },
  {
   "cell_type": "code",
   "execution_count": 134,
   "id": "actual-advocacy",
   "metadata": {},
   "outputs": [],
   "source": [
    "df_split = split_data(df_location, 'location')\n",
    "X_train, X_test, y_train, y_test = df_split"
   ]
  },
  {
   "cell_type": "code",
   "execution_count": 132,
   "id": "crucial-passage",
   "metadata": {},
   "outputs": [],
   "source": [
    "regression_model = LinearRegression() \n",
    "poly = PolynomialFeatures(degree=2)\n",
    "    "
   ]
  },
  {
   "cell_type": "code",
   "execution_count": 142,
   "id": "prescribed-nothing",
   "metadata": {},
   "outputs": [
    {
     "name": "stdout",
     "output_type": "stream",
     "text": [
      "      initial_position  initial_velocity  mass  time\n",
      "2182              2232                82   201    88\n",
      "=============\n",
      "[[1.00000e+00 2.23200e+03 8.20000e+01 2.01000e+02 8.80000e+01 1.83024e+05\n",
      "  4.48632e+05 1.96416e+05 1.64820e+04 7.21600e+03 1.76880e+04]]\n"
     ]
    }
   ],
   "source": [
    "X_train_transform = poly.fit_transform(X_train)\n",
    "X_test_transform = poly.fit_transform(X_test)\n",
    "print(X_train[0:1])\n",
    "print(\"=============\")\n",
    "print(X_train_transform[0:1])"
   ]
  },
  {
   "cell_type": "code",
   "execution_count": null,
   "id": "common-norway",
   "metadata": {},
   "outputs": [],
   "source": []
  },
  {
   "cell_type": "code",
   "execution_count": 182,
   "id": "beautiful-saskatchewan",
   "metadata": {},
   "outputs": [],
   "source": [
    "from sklearn.linear_model import LinearRegression\n",
    "from sklearn.preprocessing import PolynomialFeatures\n",
    "from sklearn.metrics import mean_squared_error, mean_absolute_error, r2_score\n",
    "from math import sqrt\n",
    "\n",
    "\n",
    "def train_eval_poly(X_train, X_test, y_train, y_test):\n",
    "    regression_model = LinearRegression() \n",
    "    \n",
    "    poly = PolynomialFeatures(degree=2)\n",
    "    X_train_transform = poly.fit_transform(X_train)\n",
    "    X_test_transform = poly.fit_transform(X_test)\n",
    "    print(X_train[0:1])\n",
    "    print(\"  .  \")\n",
    "    print(\"---polynomial form---\")\n",
    "    print(poly.fit(X_train).get_feature_names(X_train.columns))\n",
    "    print(X_train_transform[0:1])\n",
    "    \n",
    "    regression_model.fit(X_train_transform, y_train) \n",
    "    y_pred = regression_model.predict(X_test_transform)\n",
    "    print(\"  .  \")\n",
    "    print(\"R2: \\t\", r2_score(y_test, y_pred))\n",
    "    print(\"RMSE: \\t\", sqrt(mean_squared_error(y_test, y_pred)))\n",
    "    print(\"MAE: \\t\", mean_absolute_error(y_test, y_pred))\n",
    "    \n",
    "    return regression_model"
   ]
  },
  {
   "cell_type": "code",
   "execution_count": 183,
   "id": "expanded-flood",
   "metadata": {},
   "outputs": [
    {
     "name": "stdout",
     "output_type": "stream",
     "text": [
      "      initial_position  initial_velocity  mass  time\n",
      "2182              2232                82   201    88\n",
      "  .  \n",
      "---polynomial form---\n",
      "['1', 'initial_position', 'initial_velocity', 'mass', 'time', 'initial_position^2', 'initial_position initial_velocity', 'initial_position mass', 'initial_position time', 'initial_velocity^2', 'initial_velocity mass', 'initial_velocity time', 'mass^2', 'mass time', 'time^2']\n",
      "[[1.000000e+00 2.232000e+03 8.200000e+01 2.010000e+02 8.800000e+01\n",
      "  4.981824e+06 1.830240e+05 4.486320e+05 1.964160e+05 6.724000e+03\n",
      "  1.648200e+04 7.216000e+03 4.040100e+04 1.768800e+04 7.744000e+03]]\n",
      "  .  \n",
      "R2: \t 1.0\n",
      "RMSE: \t 1.3097489864403354e-09\n",
      "MAE: \t 1.0466989479596122e-09\n"
     ]
    }
   ],
   "source": [
    "df_split = split_data(df_location, 'location')\n",
    "lrModel = train_eval_poly(*df_split)"
   ]
  },
  {
   "cell_type": "code",
   "execution_count": 161,
   "id": "endless-briefing",
   "metadata": {},
   "outputs": [
    {
     "data": {
      "text/plain": [
       "array([ 0.00000000e+00,  1.00000000e+00, -6.58420756e-13,  1.85730158e-13,\n",
       "        1.24126800e-12, -1.11022302e-16,  1.99493200e-16, -6.93889390e-17,\n",
       "        1.50053581e-16,  1.97257033e-16,  9.54097912e-18,  1.00000000e+00,\n",
       "        1.11022302e-16,  1.06875229e-15, -4.90000000e+00])"
      ]
     },
     "execution_count": 161,
     "metadata": {},
     "output_type": "execute_result"
    }
   ],
   "source": [
    "lrModel.coef_"
   ]
  },
  {
   "cell_type": "code",
   "execution_count": null,
   "id": "difficult-antigua",
   "metadata": {},
   "outputs": [],
   "source": [
    "['1', 'initial_position', 'initial_velocity', 'mass', \n",
    " 'time', 'initial_position^2', 'initial_position initial_velocity', 'initial_position mass',\n",
    " 'initial_position time', 'initial_velocity^2', 'initial_velocity mass', 'initial_velocity time',\n",
    " 'mass^2', 'mass time', 'time^2']"
   ]
  },
  {
   "cell_type": "code",
   "execution_count": null,
   "id": "early-credits",
   "metadata": {},
   "outputs": [],
   "source": [
    "y = 'initial_position' + 'initial_velocity' X 'time' + (-4.90)'time^2'"
   ]
  },
  {
   "cell_type": "code",
   "execution_count": null,
   "id": "crazy-hands",
   "metadata": {},
   "outputs": [],
   "source": [
    "y = X0 + V0t - 1/2 at^2. ( formula for falling object)"
   ]
  }
 ],
 "metadata": {
  "kernelspec": {
   "display_name": "Python 3",
   "language": "python",
   "name": "python3"
  },
  "language_info": {
   "codemirror_mode": {
    "name": "ipython",
    "version": 3
   },
   "file_extension": ".py",
   "mimetype": "text/x-python",
   "name": "python",
   "nbconvert_exporter": "python",
   "pygments_lexer": "ipython3",
   "version": "3.7.3"
  }
 },
 "nbformat": 4,
 "nbformat_minor": 5
}
